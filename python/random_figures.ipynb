{
 "cells": [
  {
   "cell_type": "code",
   "execution_count": 1,
   "metadata": {},
   "outputs": [],
   "source": [
    "import numpy as np\n",
    "import matplotlib.pyplot as plt\n",
    "plt.rcParams['text.usetex'] = True"
   ]
  },
  {
   "cell_type": "code",
   "execution_count": 2,
   "metadata": {},
   "outputs": [],
   "source": [
    "def arrowed_spines(fig, ax):\n",
    "\n",
    "    xmin, xmax = ax.get_xlim() \n",
    "    ymin, ymax = ax.get_ylim()\n",
    "\n",
    "    # removing the default axis on all sides:\n",
    "    for side in ['bottom','right','top','left']:\n",
    "        ax.spines[side].set_visible(False)\n",
    "\n",
    "    # removing the axis ticks\n",
    "    plt.xticks([]) # labels \n",
    "    plt.yticks([])\n",
    "    ax.xaxis.set_ticks_position('none') # tick markers\n",
    "    ax.yaxis.set_ticks_position('none')\n",
    "\n",
    "    # get width and height of axes object to compute \n",
    "    # matching arrowhead length and width\n",
    "    dps = fig.dpi_scale_trans.inverted()\n",
    "    bbox = ax.get_window_extent().transformed(dps)\n",
    "    width, height = bbox.width, bbox.height\n",
    "\n",
    "    # manual arrowhead width and length\n",
    "    hw = 1./20.*(ymax-ymin) \n",
    "    hl = 1./20.*(xmax-xmin)\n",
    "    lw = 1. # axis line width\n",
    "    ohg = 0.3 # arrow overhang\n",
    "\n",
    "    # compute matching arrowhead length and width\n",
    "    yhw = hw/(ymax-ymin)*(xmax-xmin)* height/width \n",
    "    yhl = hl/(xmax-xmin)*(ymax-ymin)* width/height\n"
   ]
  },
  {
   "cell_type": "code",
   "execution_count": 3,
   "metadata": {},
   "outputs": [],
   "source": [
    "r = 0.2\n",
    "\n",
    "node_coord = 10\n",
    "angles = np.linspace(0, 2 * np.pi, 50)\n",
    "half_angles = np.linspace(0, np.pi, 25)\n",
    "\n",
    "top_left_xs = r * np.cos(angles) - node_coord\n",
    "top_left_ys = r * np.sin(angles) + node_coord\n",
    "\n",
    "top_right_xs = r * np.cos(angles) + node_coord\n",
    "top_right_ys = r * np.sin(angles) + node_coord\n",
    "\n",
    "middle_xs = np.zeros(27)\n",
    "middle_ys = np.zeros(27)\n",
    "\n",
    "middle_xs[0] = r\n",
    "middle_xs[1:-1] = r * np.cos(half_angles)\n",
    "middle_xs[-1] = -r\n",
    "\n",
    "middle_ys[0] = 15\n",
    "middle_ys[1:-1] = r * np.sin(-half_angles) + 1\n",
    "middle_ys[-1] = 15"
   ]
  },
  {
   "cell_type": "code",
   "execution_count": 21,
   "metadata": {},
   "outputs": [
    {
     "data": {
      "image/png": "[encoded data removed]",
      "text/plain": [
       "<Figure size 432x288 with 1 Axes>"
      ]
     },
     "metadata": {},
     "output_type": "display_data"
    }
   ],
   "source": [
    "fig = plt.figure()\n",
    "ax = fig.add_subplot(1, 1, 1)\n",
    "\n",
    "# Move left y-axis and bottim x-axis to centre, passing through (0,0)\n",
    "ax.spines['left'].set_position('zero')\n",
    "ax.spines['bottom'].set_position('zero')\n",
    "ax.spines['left'].set_visible(False)\n",
    "ax.spines['bottom'].set_visible(False)\n",
    "\n",
    "# Eliminate upper and right axes\n",
    "ax.spines['right'].set_color('none')\n",
    "ax.spines['top'].set_color('none')\n",
    "\n",
    "# Show ticks in the left and lower axes only\n",
    "ax.xaxis.set_ticks([])\n",
    "ax.yaxis.set_ticks([])\n",
    "\n",
    "# draw x and y axis\n",
    "ax.arrow(-14, 0, 28., 0., fc='k', ec='k', lw=0.5, \n",
    "         head_width=0.3, head_length=0.5, overhang=0.3, \n",
    "         length_includes_head=True, clip_on=False) \n",
    "\n",
    "ax.arrow(0, -1, 0., 17, fc='k', ec='k', lw=0.5, \n",
    "         head_width=0.3, head_length=0.5, overhang=0.3, \n",
    "         length_includes_head=True, clip_on=False)\n",
    "\n",
    "plt.plot([-12, 12], [0, 0], color='tab:blue', label='eredeti görbe')\n",
    "\n",
    "plt.plot(top_left_xs, top_left_ys, color='tab:red')\n",
    "plt.plot(top_right_xs, top_right_ys, color='tab:red')\n",
    "plt.plot(middle_xs, middle_ys, color='tab:red', label='transzformált görbe')\n",
    "\n",
    "plt.scatter([-node_coord, node_coord], [node_coord, node_coord], color='black', s=0.5)\n",
    "\n",
    "plt.legend()\n",
    "ax.text(-node_coord, node_coord - 1, r'$x_2 = \\frac{i - 1}{\\sqrt{2} \\tilde{\\lambda}_\\mathrm{D}}$', fontsize=14,\n",
    "        verticalalignment='top', horizontalalignment='center')\n",
    "ax.text(node_coord, node_coord - 1, r'$x_1 = \\frac{i + 1}{\\sqrt{2} \\tilde{\\lambda}_\\mathrm{D}}$', fontsize=14,\n",
    "        verticalalignment='top', horizontalalignment='center')\n",
    "ax.text(14, -0.5, r'$\\mathrm{Re}$', fontsize=14,\n",
    "        verticalalignment='top', horizontalalignment='right')\n",
    "ax.text(0.5, 16, r'$\\mathrm{Im}$', fontsize=14,\n",
    "        verticalalignment='top', horizontalalignment='left')\n",
    "\n",
    "plt.savefig(\"integral_curve.pdf\", format=\"pdf\", bbox_inches=\"tight\")\n",
    "plt.show()"
   ]
  },
  {
   "cell_type": "code",
   "execution_count": 24,
   "metadata": {},
   "outputs": [
    {
     "data": {
      "image/png": "[encoded data removed]",
      "text/plain": [
       "<Figure size 432x288 with 1 Axes>"
      ]
     },
     "metadata": {
      "needs_background": "light"
     },
     "output_type": "display_data"
    }
   ],
   "source": [
    "left = -300\n",
    "right = 300\n",
    "bcs = np.zeros((6, 2))\n",
    "bcs[0,:] = [ left, 0 ]\n",
    "bcs[1,:] = [ -100, 0 ]\n",
    "bcs[2,:] = [ -100, 1 ]\n",
    "bcs[3,:] = [ 100, 1 ]\n",
    "bcs[4,:] = [ 100, 0 ]\n",
    "bcs[5,:] = [ right, 0 ]\n",
    "\n",
    "xs = np.linspace(left, right, 500)\n",
    "ys = 1 / ((l0 * xs)**4 + 1)\n",
    "\n",
    "fig = plt.figure()\n",
    "ax = fig.add_subplot(1, 1, 1)\n",
    "\n",
    "plt.plot(bcs[:,0], bcs[:,1], label='BCS levágás')\n",
    "plt.plot(xs, ys, label='mi levágásunk')\n",
    "plt.xlabel(r'$\\xi$')\n",
    "plt.legend()\n",
    "\n",
    "ax.set_xticks([ -300, -200, -100, 0, 100, 200, 300 ])\n",
    "ax.set_xticklabels([\n",
    "    r'$-3 \\, \\hbar \\omega_{\\mathrm{D}}$',\n",
    "    r'$-2 \\, \\hbar \\omega_{\\mathrm{D}}$',\n",
    "    r'$-\\hbar \\omega_{\\mathrm{D}}$',\n",
    "    '$0$',\n",
    "    r'$\\hbar \\omega_{\\mathrm{D}}$',\n",
    "    r'$2 \\, \\hbar \\omega_{\\mathrm{D}}$',\n",
    "    r'$3 \\, \\hbar \\omega_{\\mathrm{D}}$',\n",
    "])\n",
    "ax.set_yticks([ 0, 1 ])\n",
    "\n",
    "plt.savefig(\"cutoff.pdf\", format=\"pdf\", bbox_inches=\"tight\")\n",
    "plt.show()"
   ]
  },
  {
   "cell_type": "code",
   "execution_count": null,
   "metadata": {},
   "outputs": [],
   "source": []
  }
 ],
 "metadata": {
  "kernelspec": {
   "display_name": "Python 3",
   "language": "python",
   "name": "python3"
  },
  "language_info": {
   "codemirror_mode": {
    "name": "ipython",
    "version": 3
   },
   "file_extension": ".py",
   "mimetype": "text/x-python",
   "name": "python",
   "nbconvert_exporter": "python",
   "pygments_lexer": "ipython3",
   "version": "3.7.6"
  }
 },
 "nbformat": 4,
 "nbformat_minor": 4
}
